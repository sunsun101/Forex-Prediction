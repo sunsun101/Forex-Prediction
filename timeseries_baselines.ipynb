{
 "cells": [
  {
   "cell_type": "code",
   "execution_count": 1,
   "id": "ea080bc9-407e-4c9c-8aaa-b5e11daa5c84",
   "metadata": {},
   "outputs": [],
   "source": [
    "import pandas as pd\n",
    "import numpy as np\n",
    "import torch\n",
    "from torch import nn\n",
    "from torch.utils.data import DataLoader\n",
    "from torch.utils.data import Dataset\n",
    "import matplotlib.pyplot as plt\n",
    "from datetime import datetime\n",
    "import os\n",
    "\n",
    "os.environ['http_proxy'] = 'http://192.41.170.23:3128'\n",
    "os.environ['https_proxy'] = 'http://192.41.170.23:3128'\n",
    "\n",
    "device = torch.device('cuda:1' if torch.cuda.is_available() else 'cpu')"
   ]
  },
  {
   "cell_type": "code",
   "execution_count": 2,
   "id": "126af440-1420-4ee3-85ef-941db5fc6d2c",
   "metadata": {},
   "outputs": [
    {
     "data": {
      "text/html": [
       "<div>\n",
       "<style scoped>\n",
       "    .dataframe tbody tr th:only-of-type {\n",
       "        vertical-align: middle;\n",
       "    }\n",
       "\n",
       "    .dataframe tbody tr th {\n",
       "        vertical-align: top;\n",
       "    }\n",
       "\n",
       "    .dataframe thead th {\n",
       "        text-align: right;\n",
       "    }\n",
       "</style>\n",
       "<table border=\"1\" class=\"dataframe\">\n",
       "  <thead>\n",
       "    <tr style=\"text-align: right;\">\n",
       "      <th></th>\n",
       "      <th>&lt;DATE&gt;</th>\n",
       "      <th>&lt;TIME&gt;</th>\n",
       "      <th>&lt;OPEN&gt;</th>\n",
       "      <th>&lt;HIGH&gt;</th>\n",
       "      <th>&lt;LOW&gt;</th>\n",
       "      <th>&lt;CLOSE&gt;</th>\n",
       "      <th>&lt;TICKVOL&gt;</th>\n",
       "      <th>&lt;VOL&gt;</th>\n",
       "      <th>&lt;SPREAD&gt;</th>\n",
       "    </tr>\n",
       "  </thead>\n",
       "  <tbody>\n",
       "    <tr>\n",
       "      <th>61997</th>\n",
       "      <td>2022.04.08</td>\n",
       "      <td>14:00:00</td>\n",
       "      <td>1.08861</td>\n",
       "      <td>1.08881</td>\n",
       "      <td>1.08592</td>\n",
       "      <td>1.08638</td>\n",
       "      <td>3897</td>\n",
       "      <td>0</td>\n",
       "      <td>0</td>\n",
       "    </tr>\n",
       "    <tr>\n",
       "      <th>61998</th>\n",
       "      <td>2022.04.08</td>\n",
       "      <td>15:00:00</td>\n",
       "      <td>1.08637</td>\n",
       "      <td>1.08660</td>\n",
       "      <td>1.08504</td>\n",
       "      <td>1.08531</td>\n",
       "      <td>4443</td>\n",
       "      <td>0</td>\n",
       "      <td>0</td>\n",
       "    </tr>\n",
       "    <tr>\n",
       "      <th>61999</th>\n",
       "      <td>2022.04.08</td>\n",
       "      <td>16:00:00</td>\n",
       "      <td>1.08531</td>\n",
       "      <td>1.08581</td>\n",
       "      <td>1.08364</td>\n",
       "      <td>1.08399</td>\n",
       "      <td>6250</td>\n",
       "      <td>0</td>\n",
       "      <td>0</td>\n",
       "    </tr>\n",
       "    <tr>\n",
       "      <th>62000</th>\n",
       "      <td>2022.04.08</td>\n",
       "      <td>17:00:00</td>\n",
       "      <td>1.08399</td>\n",
       "      <td>1.08804</td>\n",
       "      <td>1.08388</td>\n",
       "      <td>1.08727</td>\n",
       "      <td>6825</td>\n",
       "      <td>0</td>\n",
       "      <td>0</td>\n",
       "    </tr>\n",
       "    <tr>\n",
       "      <th>62001</th>\n",
       "      <td>2022.04.08</td>\n",
       "      <td>18:00:00</td>\n",
       "      <td>1.08725</td>\n",
       "      <td>1.08815</td>\n",
       "      <td>1.08716</td>\n",
       "      <td>1.08757</td>\n",
       "      <td>2771</td>\n",
       "      <td>0</td>\n",
       "      <td>0</td>\n",
       "    </tr>\n",
       "  </tbody>\n",
       "</table>\n",
       "</div>"
      ],
      "text/plain": [
       "           <DATE>    <TIME>   <OPEN>   <HIGH>    <LOW>  <CLOSE>  <TICKVOL>  \\\n",
       "61997  2022.04.08  14:00:00  1.08861  1.08881  1.08592  1.08638       3897   \n",
       "61998  2022.04.08  15:00:00  1.08637  1.08660  1.08504  1.08531       4443   \n",
       "61999  2022.04.08  16:00:00  1.08531  1.08581  1.08364  1.08399       6250   \n",
       "62000  2022.04.08  17:00:00  1.08399  1.08804  1.08388  1.08727       6825   \n",
       "62001  2022.04.08  18:00:00  1.08725  1.08815  1.08716  1.08757       2771   \n",
       "\n",
       "       <VOL>  <SPREAD>  \n",
       "61997      0         0  \n",
       "61998      0         0  \n",
       "61999      0         0  \n",
       "62000      0         0  \n",
       "62001      0         0  "
      ]
     },
     "execution_count": 2,
     "metadata": {},
     "output_type": "execute_result"
    }
   ],
   "source": [
    "data = pd.read_csv('dataset_eurousd.csv', delimiter = '\\t')\n",
    "data.tail()"
   ]
  },
  {
   "cell_type": "code",
   "execution_count": 3,
   "id": "48dbb093-d36e-4473-b84a-7c44168f6cdf",
   "metadata": {},
   "outputs": [
    {
     "data": {
      "text/plain": [
       "Index(['DATE', 'TIME', 'OPEN', 'HIGH', 'LOW', 'CLOSE', 'TICKVOL', 'VOL',\n",
       "       'SPREAD'],\n",
       "      dtype='object')"
      ]
     },
     "execution_count": 3,
     "metadata": {},
     "output_type": "execute_result"
    }
   ],
   "source": [
    "data.columns =['DATE', 'TIME', 'OPEN', 'HIGH', 'LOW', 'CLOSE', 'TICKVOL',\n",
    "       'VOL', 'SPREAD']\n",
    "data.columns"
   ]
  },
  {
   "cell_type": "code",
   "execution_count": 4,
   "id": "4ec29931-5bb0-4fac-839c-e277f850f3f9",
   "metadata": {},
   "outputs": [],
   "source": [
    "# df['DATETIME'] = pd.to_datetime(df['DATE'] + ' ' + df['TIME'], format='%Y.%m.%d %H:%M:%S')\n",
    "# df = df.drop(['DATE', 'TIME'], axis = 1)"
   ]
  },
  {
   "cell_type": "code",
   "execution_count": 5,
   "id": "f9e88cc4-1465-4a88-9c8c-421b4915e2ce",
   "metadata": {},
   "outputs": [],
   "source": [
    "# df = df.set_index(['DATETIME'])\n",
    "# df.index = pd.to_datetime(df.index)\n",
    "# if not df.index.is_monotonic:\n",
    "#     df = df.sort_index()"
   ]
  },
  {
   "cell_type": "code",
   "execution_count": 6,
   "id": "3a543f7a-65e9-4a17-a683-d8e5c9ea7bd2",
   "metadata": {},
   "outputs": [],
   "source": [
    "# def generate_time_lags(df, n_lags):\n",
    "#     df_n = df.copy()\n",
    "#     for n in range(1, n_lags + 1):\n",
    "#         df_n[f\"lag{n}\"] = df_n[\"CLOSE\"].shift(n)\n",
    "#     df_n = df_n.iloc[n_lags:]\n",
    "#     return df_n\n",
    "    \n",
    "# input_dim = 100\n",
    "\n",
    "# df_generated = generate_time_lags(df, input_dim)\n",
    "# df_generated\n",
    "\n",
    "# df['CLOSE'].shift(2)"
   ]
  },
  {
   "cell_type": "code",
   "execution_count": 7,
   "id": "4f0c356d-e758-439f-9f9c-130454ebf9e3",
   "metadata": {},
   "outputs": [],
   "source": [
    "# df = df.rename(columns={'CLOSE': 'value'})\n",
    "# plot_dataset(df, title='EURUSD')\n",
    "# plt.scatter(df.index, df.value)"
   ]
  },
  {
   "cell_type": "code",
   "execution_count": 8,
   "id": "f435ca34-51b8-4f67-a8b4-5fbe002f8b5e",
   "metadata": {},
   "outputs": [],
   "source": [
    "date_filter = data['DATE'] == '2021.01.04'\n",
    "time_filter = data['TIME'] == '00:00:00'\n",
    "idx_bool = date_filter * time_filter\n",
    "idx = data[idx_bool].index.tolist()[0]\n",
    "# idx_bool.sum()"
   ]
  },
  {
   "cell_type": "code",
   "execution_count": 9,
   "id": "5ce432c4-c491-4216-88c9-566a63840cf9",
   "metadata": {},
   "outputs": [],
   "source": [
    "train = data.iloc[:idx]\n",
    "test = data.iloc[idx:]"
   ]
  },
  {
   "cell_type": "code",
   "execution_count": 10,
   "id": "66075cb9-5d37-4a47-bbf0-a4d01f12fc74",
   "metadata": {},
   "outputs": [
    {
     "data": {
      "text/html": [
       "<div>\n",
       "<style scoped>\n",
       "    .dataframe tbody tr th:only-of-type {\n",
       "        vertical-align: middle;\n",
       "    }\n",
       "\n",
       "    .dataframe tbody tr th {\n",
       "        vertical-align: top;\n",
       "    }\n",
       "\n",
       "    .dataframe thead th {\n",
       "        text-align: right;\n",
       "    }\n",
       "</style>\n",
       "<table border=\"1\" class=\"dataframe\">\n",
       "  <thead>\n",
       "    <tr style=\"text-align: right;\">\n",
       "      <th></th>\n",
       "      <th>DATE</th>\n",
       "      <th>TIME</th>\n",
       "      <th>OPEN</th>\n",
       "      <th>HIGH</th>\n",
       "      <th>LOW</th>\n",
       "      <th>CLOSE</th>\n",
       "      <th>TICKVOL</th>\n",
       "      <th>VOL</th>\n",
       "      <th>SPREAD</th>\n",
       "    </tr>\n",
       "  </thead>\n",
       "  <tbody>\n",
       "    <tr>\n",
       "      <th>54097</th>\n",
       "      <td>2021.01.04</td>\n",
       "      <td>00:00:00</td>\n",
       "      <td>1.22395</td>\n",
       "      <td>1.22398</td>\n",
       "      <td>1.2228</td>\n",
       "      <td>1.22341</td>\n",
       "      <td>521</td>\n",
       "      <td>0</td>\n",
       "      <td>0</td>\n",
       "    </tr>\n",
       "  </tbody>\n",
       "</table>\n",
       "</div>"
      ],
      "text/plain": [
       "             DATE      TIME     OPEN     HIGH     LOW    CLOSE  TICKVOL  VOL  \\\n",
       "54097  2021.01.04  00:00:00  1.22395  1.22398  1.2228  1.22341      521    0   \n",
       "\n",
       "       SPREAD  \n",
       "54097       0  "
      ]
     },
     "execution_count": 10,
     "metadata": {},
     "output_type": "execute_result"
    }
   ],
   "source": [
    "test[:1]"
   ]
  },
  {
   "cell_type": "code",
   "execution_count": 11,
   "id": "576dec79-9162-40f6-8e2f-d51c301d801b",
   "metadata": {},
   "outputs": [
    {
     "data": {
      "text/plain": [
       "(54097, 9)"
      ]
     },
     "execution_count": 11,
     "metadata": {},
     "output_type": "execute_result"
    }
   ],
   "source": [
    "train.shape"
   ]
  },
  {
   "cell_type": "code",
   "execution_count": 12,
   "id": "0cd6c61e-ea12-4424-a5e0-827b37eb3c4e",
   "metadata": {},
   "outputs": [
    {
     "data": {
      "text/plain": [
       "(7905, 9)"
      ]
     },
     "execution_count": 12,
     "metadata": {},
     "output_type": "execute_result"
    }
   ],
   "source": [
    "test.shape"
   ]
  },
  {
   "cell_type": "code",
   "execution_count": 13,
   "id": "8c2a5eef-92c7-4163-9567-084ef47f0931",
   "metadata": {},
   "outputs": [
    {
     "data": {
      "text/plain": [
       "0.8725041127705558"
      ]
     },
     "execution_count": 13,
     "metadata": {},
     "output_type": "execute_result"
    }
   ],
   "source": [
    "len(train) /(len(train) + len(test))"
   ]
  },
  {
   "cell_type": "code",
   "execution_count": 14,
   "id": "cfffe82f-58c7-4da6-8bd3-5a8a0faf0300",
   "metadata": {},
   "outputs": [],
   "source": [
    "n_steps = 720\n",
    "pred_len = 720\n",
    "\n",
    "def split_sequence(sequence, n_steps, pred_len):\n",
    "    x, y = list(), list()\n",
    "    for i in range(len(sequence)):\n",
    "        end_ix = i + n_steps\n",
    "        if end_ix > len(sequence)-1:\n",
    "            break\n",
    "        # print(sequence)\n",
    "\n",
    "        seq_y = sequence.iloc[end_ix:end_ix + pred_len, 5]\n",
    "        seq_y = seq_y.values\n",
    "        # print(seq_y)\n",
    "        seq_x = sequence[i:end_ix].drop([\"DATE\",\"TIME\",\"SPREAD\"], axis = 1)\n",
    "        \n",
    "        # print(seq_x.shape)\n",
    "        if len(seq_x) == n_steps and len(seq_y) == pred_len:\n",
    "            x.append(seq_x)\n",
    "            y.append(seq_y)\n",
    "    return np.array(x), np.array(y)"
   ]
  },
  {
   "cell_type": "code",
   "execution_count": 15,
   "id": "4bf859ff-975e-4204-b55e-f1073ca7ea19",
   "metadata": {},
   "outputs": [],
   "source": [
    "x_data, y_data = split_sequence(train, n_steps, pred_len)\n",
    "x_test, y_test = split_sequence(test, n_steps, pred_len)\n",
    "\n",
    "# data2 = timeseries_dataset[0]\n",
    "# data2[0].shape"
   ]
  },
  {
   "cell_type": "code",
   "execution_count": 16,
   "id": "9494c10c-4e25-44f1-9fb7-7870dcb8d319",
   "metadata": {},
   "outputs": [
    {
     "name": "stdout",
     "output_type": "stream",
     "text": [
      "(52658, 720, 6)\n",
      "(52658, 720)\n",
      "(6466, 720, 6)\n",
      "(6466, 720)\n"
     ]
    }
   ],
   "source": [
    "print(x_data.shape)\n",
    "print(y_data.shape)\n",
    "print(x_test.shape)\n",
    "print(y_test.shape)"
   ]
  },
  {
   "cell_type": "code",
   "execution_count": 17,
   "id": "95f6179c-d773-468d-b6dc-0add55299c95",
   "metadata": {},
   "outputs": [],
   "source": [
    "class Custom_dataset(Dataset):\n",
    "    def __init__(self, data, labels):\n",
    "        self.data = data\n",
    "        self.labels = labels\n",
    "        \n",
    "    def __len__(self):\n",
    "        return len(self.labels)\n",
    "\n",
    "    def __getitem__(self, idx):\n",
    "        \n",
    "        return self.data[idx], self.labels[idx]"
   ]
  },
  {
   "cell_type": "code",
   "execution_count": 18,
   "id": "71d28de6-b9ef-4faf-88e8-bed0560ae8b9",
   "metadata": {},
   "outputs": [],
   "source": [
    "batch_size = 128\n",
    "train_ratio = 0.9\n",
    "train_size = round(len(x_data) * train_ratio)\n",
    "\n",
    "x_train = x_data[:train_size]\n",
    "y_train = y_data[:train_size]\n",
    "x_val = x_data[train_size:]\n",
    "y_val = y_data[train_size:]\n",
    "\n",
    "train_dataset = Custom_dataset(x_train, y_train)\n",
    "val_dataset = Custom_dataset(x_val, y_val)\n",
    "test_dataset = Custom_dataset(x_test, y_test)\n",
    "\n",
    "train_loader = DataLoader(train_dataset, batch_size = batch_size, shuffle = False, num_workers = 2, drop_last= True)\n",
    "val_loader = DataLoader(val_dataset, batch_size = batch_size, shuffle = False, num_workers = 2, drop_last = True)\n",
    "test_loader = DataLoader(test_dataset, batch_size = batch_size, shuffle = False, num_workers = 2, drop_last = True)"
   ]
  },
  {
   "cell_type": "code",
   "execution_count": 19,
   "id": "fd81fc54-1564-4ced-b5cb-073825474011",
   "metadata": {},
   "outputs": [
    {
     "name": "stdout",
     "output_type": "stream",
     "text": [
      "370\n",
      "41\n",
      "50\n"
     ]
    }
   ],
   "source": [
    "print(len(train_loader))\n",
    "print(len(val_loader))\n",
    "print(len(test_loader))"
   ]
  },
  {
   "cell_type": "code",
   "execution_count": 20,
   "id": "22f646d2-2b63-4001-b049-20a5c742a881",
   "metadata": {},
   "outputs": [],
   "source": [
    "class RNNModel(nn.Module):\n",
    "    def __init__(self, input_dim, hidden_dim, layer_dim, output_dim, dropout_prob):\n",
    "        super(RNNModel, self).__init__()\n",
    "\n",
    "        # Defining the number of layers and the nodes in each layer\n",
    "        self.hidden_dim = hidden_dim\n",
    "        self.layer_dim = layer_dim\n",
    "\n",
    "        # RNN layers\n",
    "        self.rnn = nn.RNN(\n",
    "            input_dim, hidden_dim, layer_dim, batch_first=True, dropout=dropout_prob\n",
    "        )\n",
    "        # Fully connected layer\n",
    "        self.fc = nn.Linear(hidden_dim, output_dim)\n",
    "\n",
    "    def forward(self, x):\n",
    "        # Initializing hidden state for first input with zeros\n",
    "        h0 = torch.zeros(self.layer_dim, x.size(0), self.hidden_dim).requires_grad_().to(device)\n",
    "\n",
    "        # Forward propagation by passing in the input and hidden state into the model\n",
    "        out, h0 = self.rnn(x, h0.detach())\n",
    "\n",
    "        # Reshaping the outputs in the shape of (batch_size, seq_length, hidden_size)\n",
    "        # so that it can fit into the fully connected layer\n",
    "        out = out[:, -1, :]\n",
    "\n",
    "        # Convert the final state to our desired output shape (batch_size, output_dim)\n",
    "        out = self.fc(out)\n",
    "        return out"
   ]
  },
  {
   "cell_type": "code",
   "execution_count": 21,
   "id": "f1babf5c-4332-4414-8c9d-435e6c786b26",
   "metadata": {},
   "outputs": [],
   "source": [
    "class LSTMModel(nn.Module):\n",
    "    def __init__(self, input_dim, hidden_dim, layer_dim, output_dim, dropout_prob):\n",
    "        super(LSTMModel, self).__init__()\n",
    "\n",
    "        # Defining the number of layers and the nodes in each layer\n",
    "        self.hidden_dim = hidden_dim\n",
    "        self.layer_dim = layer_dim\n",
    "\n",
    "        # LSTM layers\n",
    "        self.lstm = nn.LSTM(\n",
    "            input_dim, hidden_dim, layer_dim, batch_first=True, dropout=dropout_prob, bidirectional = True\n",
    "        )\n",
    "\n",
    "        # Fully connected layer\n",
    "        self.fc = nn.Linear(hidden_dim * 2, output_dim)\n",
    "\n",
    "    def forward(self, x):\n",
    "        # Initializing hidden state for first input with zeros\n",
    "        h0 = torch.zeros(self.layer_dim * 2, x.size(0), self.hidden_dim).requires_grad_().to(device)\n",
    "\n",
    "        # Initializing cell state for first input with zeros\n",
    "        c0 = torch.zeros(self.layer_dim * 2, x.size(0), self.hidden_dim).requires_grad_().to(device)\n",
    "\n",
    "        # We need to detach as we are doing truncated backpropagation through time (BPTT)\n",
    "        # If we don't, we'll backprop all the way to the start even after going through another batch\n",
    "        # Forward propagation by passing in the input, hidden state, and cell state into the model\n",
    "        out, (hn, cn) = self.lstm(x, (h0.detach(), c0.detach()))\n",
    "\n",
    "        # Reshaping the outputs in the shape of (batch_size, seq_length, hidden_size)\n",
    "        # so that it can fit into the fully connected layer\n",
    "        out = out[:, -1, :]\n",
    "\n",
    "        # Convert the final state to our desired output shape (batch_size, output_dim)\n",
    "        out = self.fc(out)\n",
    "\n",
    "        return out"
   ]
  },
  {
   "cell_type": "code",
   "execution_count": 22,
   "id": "90d61bc9-71b3-4f72-ae7c-37242ee9dcfa",
   "metadata": {},
   "outputs": [],
   "source": [
    "class GRUModel(nn.Module):\n",
    "    def __init__(self, input_dim, hidden_dim, layer_dim, output_dim, dropout_prob):\n",
    "        super(GRUModel, self).__init__()\n",
    "\n",
    "        # Defining the number of layers and the nodes in each layer\n",
    "        self.layer_dim = layer_dim\n",
    "        self.hidden_dim = hidden_dim\n",
    "\n",
    "        # GRU layers\n",
    "        self.gru = nn.GRU(\n",
    "            input_dim, hidden_dim, layer_dim, batch_first=True, dropout=dropout_prob\n",
    "        )\n",
    "\n",
    "        # Fully connected layer\n",
    "        self.fc = nn.Linear(hidden_dim, output_dim)\n",
    "\n",
    "    def forward(self, x):\n",
    "        # Initializing hidden state for first input with zeros\n",
    "        h0 = torch.zeros(self.layer_dim, x.size(0), self.hidden_dim).requires_grad_().to(device)\n",
    "\n",
    "        # Forward propagation by passing in the input and hidden state into the model\n",
    "        out, _ = self.gru(x, h0.detach())\n",
    "\n",
    "        # Reshaping the outputs in the shape of (batch_size, seq_length, hidden_size)\n",
    "        # so that it can fit into the fully connected layer\n",
    "        out = out[:, -1, :]\n",
    "\n",
    "        # Convert the final state to our desired output shape (batch_size, output_dim)\n",
    "        out = self.fc(out)\n",
    "\n",
    "        return out"
   ]
  },
  {
   "cell_type": "code",
   "execution_count": 23,
   "id": "fa7887cf-2e53-4890-8f07-581910d67a27",
   "metadata": {},
   "outputs": [],
   "source": [
    "def get_model(model, model_params):\n",
    "    models = {\n",
    "        \"rnn\": RNNModel,\n",
    "        \"lstm\": LSTMModel,\n",
    "        \"gru\": GRUModel,\n",
    "    }\n",
    "    return models.get(model.lower())(**model_params)\n"
   ]
  },
  {
   "cell_type": "code",
   "execution_count": 24,
   "id": "ee1d59d3-1789-4b14-90a3-c8305261a497",
   "metadata": {},
   "outputs": [],
   "source": [
    "class Optimization:\n",
    "    def __init__(self, model, loss_fn, optimizer):\n",
    "        self.model = model\n",
    "        self.loss_fn = loss_fn\n",
    "        self.optimizer = optimizer\n",
    "        self.train_losses = []\n",
    "        self.val_losses = []\n",
    "    \n",
    "    def train_step(self, x, y):\n",
    "        # Sets model to train mode\n",
    "        self.model = self.model.to(device)\n",
    "        self.model.train()\n",
    "        x = x.to(device)\n",
    "        y = y.to(device)\n",
    "        \n",
    "        # Makes predictions\n",
    "        yhat = self.model(x.float())\n",
    "\n",
    "        # Computes loss\n",
    "        loss = self.loss_fn(y.float(), yhat)\n",
    "\n",
    "        # Computes gradients\n",
    "        loss.backward()\n",
    "\n",
    "        # Updates parameters and zeroes gradients\n",
    "        self.optimizer.step()\n",
    "        self.optimizer.zero_grad()\n",
    "\n",
    "        # Returns the loss\n",
    "        return loss.item()\n",
    "    \n",
    "    def train(self, train_loader, val_loader, batch_size=256, n_epochs=10, n_features=6):\n",
    "        model_path = f'models/LSTM_{datetime.now().strftime(\"%Y-%m-%d %H:%M:%S\")}'\n",
    "\n",
    "        for epoch in range(1, n_epochs + 1):\n",
    "            batch_losses = []\n",
    "            for x_batch, y_batch in train_loader:\n",
    "                # print(x_batch.size())\n",
    "                x_batch = x_batch.view([batch_size, -1, n_features]).to(device)\n",
    "                y_batch = y_batch.to(device)\n",
    "                loss = self.train_step(x_batch, y_batch)\n",
    "                batch_losses.append(loss)\n",
    "            training_loss = np.mean(batch_losses)\n",
    "            self.train_losses.append(training_loss)\n",
    "\n",
    "            with torch.no_grad():\n",
    "                batch_val_losses = []\n",
    "                for x_val, y_val in val_loader:\n",
    "                    x_val = x_val.view([batch_size, -1, n_features]).to(device)\n",
    "                    y_val = y_val.to(device)\n",
    "                    self.model.eval()\n",
    "                    yhat = self.model(x_val.float())\n",
    "                    val_loss = self.loss_fn(y_val.float(), yhat).item()\n",
    "                    batch_val_losses.append(val_loss)\n",
    "                validation_loss = np.mean(batch_val_losses)\n",
    "                self.val_losses.append(validation_loss)\n",
    "\n",
    "            if (epoch <= 50) | (epoch % 50 == 0):\n",
    "                print(\n",
    "                    f\"[{epoch}/{n_epochs}] Training loss: {training_loss:.6f}\\t Validation loss: {validation_loss:.6f}\"\n",
    "                )\n",
    "        torch.save(self.model.state_dict(), model_path)\n",
    "    \n",
    "    def evaluate(self, test_loader, batch_size=256, n_features=6):\n",
    "        with torch.no_grad():\n",
    "            predictions = []\n",
    "            values = []\n",
    "            for x_test, y_test in test_loader:\n",
    "                x_test = x_test.view([batch_size, -1, n_features]).to(device)\n",
    "                y_test = y_test.to(device)\n",
    "                self.model.eval()\n",
    "                yhat = self.model(x_test.float())\n",
    "                predictions.append(yhat.cpu().detach().numpy())\n",
    "                values.append(y_test.cpu().detach().numpy())\n",
    "\n",
    "        return predictions, values\n",
    "    \n",
    "    def plot_losses(self):\n",
    "        plt.plot(self.train_losses, label=\"Training loss\")\n",
    "        plt.plot(self.val_losses, label=\"Validation loss\")\n",
    "        plt.legend()\n",
    "        plt.title(\"Losses\")\n",
    "        plt.show()\n",
    "        plt.close()"
   ]
  },
  {
   "cell_type": "code",
   "execution_count": 25,
   "id": "cf46a340-da31-4724-8109-a8e3275c744a",
   "metadata": {},
   "outputs": [],
   "source": [
    "def format_predictions(predictions, values):\n",
    "    vals = np.concatenate(values, axis=0).ravel()\n",
    "    preds = np.concatenate(predictions, axis=0).ravel()\n",
    "    df_result = pd.DataFrame(data={\"value\": vals, \"prediction\": preds})\n",
    "    # df_result = df_result.sort_index()\n",
    "    # df_result = inverse_transform(scaler, df_result, [[\"value\", \"prediction\"]])\n",
    "    return df_result"
   ]
  },
  {
   "cell_type": "code",
   "execution_count": 26,
   "id": "975760d3-5ea4-467f-a62b-ababcb57b44f",
   "metadata": {},
   "outputs": [
    {
     "name": "stdout",
     "output_type": "stream",
     "text": [
      "[1/10] Training loss: 0.965781\t Validation loss: 0.266880\n",
      "[2/10] Training loss: 0.152344\t Validation loss: 0.021330\n",
      "[3/10] Training loss: 0.023633\t Validation loss: 0.004164\n",
      "[4/10] Training loss: 0.011527\t Validation loss: 0.002968\n",
      "[5/10] Training loss: 0.009664\t Validation loss: 0.002534\n",
      "[6/10] Training loss: 0.008845\t Validation loss: 0.002220\n",
      "[7/10] Training loss: 0.008200\t Validation loss: 0.002027\n",
      "[8/10] Training loss: 0.007651\t Validation loss: 0.001914\n",
      "[9/10] Training loss: 0.007126\t Validation loss: 0.001849\n",
      "[10/10] Training loss: 0.006740\t Validation loss: 0.001840\n"
     ]
    },
    {
     "data": {
      "image/png": "[encoded data removed]",
      "text/plain": [
       "<Figure size 432x288 with 1 Axes>"
      ]
     },
     "metadata": {
      "needs_background": "light"
     },
     "output_type": "display_data"
    }
   ],
   "source": [
    "import torch.optim as optim\n",
    "\n",
    "input_dim = 6\n",
    "hidden_dim = 256\n",
    "output_dim = 720\n",
    "layer_dim = 2\n",
    "dropout = 0.3\n",
    "n_epochs = 10\n",
    "learning_rate = 1e-5\n",
    "weight_decay = 1e-5\n",
    "\n",
    "model_params = {'input_dim': input_dim,\n",
    "                'hidden_dim' : hidden_dim,\n",
    "                'layer_dim' : layer_dim,\n",
    "                'output_dim' : output_dim,\n",
    "                'dropout_prob' : dropout}\n",
    "\n",
    "model = get_model('rnn', model_params)\n",
    "\n",
    "loss_fn = nn.MSELoss(reduction=\"mean\")\n",
    "optimizer = optim.Adam(model.parameters(), lr=learning_rate, weight_decay=weight_decay)\n",
    "\n",
    "opt = Optimization(model=model, loss_fn=loss_fn, optimizer=optimizer)\n",
    "opt.train(train_loader, val_loader, batch_size=batch_size, n_epochs=n_epochs, n_features=input_dim)\n",
    "opt.plot_losses()\n",
    "\n",
    "predictions, values = opt.evaluate(test_loader, batch_size=batch_size, n_features=input_dim)"
   ]
  },
  {
   "cell_type": "code",
   "execution_count": 27,
   "id": "971ad599-f7c7-4106-893b-01c7974d99e0",
   "metadata": {},
   "outputs": [],
   "source": [
    "df_result = format_predictions(predictions, values)"
   ]
  },
  {
   "cell_type": "code",
   "execution_count": 28,
   "id": "89dad5a3-aa61-4911-94b9-58661ff0aa76",
   "metadata": {},
   "outputs": [
    {
     "name": "stdout",
     "output_type": "stream",
     "text": [
      "{'mae': 0.037043340570964284, 'rmse': 0.04480936528977203, 'r2': -0.9215659193963357}\n"
     ]
    }
   ],
   "source": [
    "from sklearn.metrics import mean_absolute_error, mean_squared_error, r2_score\n",
    "\n",
    "def calculate_metrics(df):\n",
    "    return {'mae' : mean_absolute_error(df.value, df.prediction),\n",
    "            'rmse' : mean_squared_error(df.value, df.prediction) ** 0.5,\n",
    "            'r2' : r2_score(df.value, df.prediction)}\n",
    "\n",
    "result_metrics = calculate_metrics(df_result)\n",
    "print(result_metrics)"
   ]
  },
  {
   "cell_type": "code",
   "execution_count": 29,
   "id": "1bce969d-2fc7-4a6f-b088-516a6f12b324",
   "metadata": {},
   "outputs": [
    {
     "name": "stdout",
     "output_type": "stream",
     "text": [
      "[1/25] Training loss: 1.005069\t Validation loss: 0.137130\n",
      "[2/25] Training loss: 0.060116\t Validation loss: 0.003188\n",
      "[3/25] Training loss: 0.009333\t Validation loss: 0.002285\n",
      "[4/25] Training loss: 0.007297\t Validation loss: 0.001998\n",
      "[5/25] Training loss: 0.006297\t Validation loss: 0.001901\n",
      "[6/25] Training loss: 0.005489\t Validation loss: 0.001895\n",
      "[7/25] Training loss: 0.004879\t Validation loss: 0.001940\n",
      "[8/25] Training loss: 0.004406\t Validation loss: 0.002002\n",
      "[9/25] Training loss: 0.004004\t Validation loss: 0.002061\n",
      "[10/25] Training loss: 0.003734\t Validation loss: 0.002117\n",
      "[11/25] Training loss: 0.003498\t Validation loss: 0.002143\n",
      "[12/25] Training loss: 0.003311\t Validation loss: 0.002131\n",
      "[13/25] Training loss: 0.003148\t Validation loss: 0.002144\n",
      "[14/25] Training loss: 0.003030\t Validation loss: 0.002105\n",
      "[15/25] Training loss: 0.002969\t Validation loss: 0.002118\n",
      "[16/25] Training loss: 0.002915\t Validation loss: 0.002119\n",
      "[17/25] Training loss: 0.002854\t Validation loss: 0.002131\n",
      "[18/25] Training loss: 0.002820\t Validation loss: 0.002109\n",
      "[19/25] Training loss: 0.002800\t Validation loss: 0.002108\n",
      "[20/25] Training loss: 0.002769\t Validation loss: 0.002131\n",
      "[21/25] Training loss: 0.002767\t Validation loss: 0.002166\n",
      "[22/25] Training loss: 0.002745\t Validation loss: 0.002196\n",
      "[23/25] Training loss: 0.002737\t Validation loss: 0.002218\n",
      "[24/25] Training loss: 0.002777\t Validation loss: 0.002224\n",
      "[25/25] Training loss: 0.002715\t Validation loss: 0.002231\n"
     ]
    },
    {
     "data": {
      "image/png": "[encoded data removed]",
      "text/plain": [
       "<Figure size 432x288 with 1 Axes>"
      ]
     },
     "metadata": {
      "needs_background": "light"
     },
     "output_type": "display_data"
    }
   ],
   "source": [
    "import torch.optim as optim\n",
    "\n",
    "input_dim = 6\n",
    "hidden_dim = 256\n",
    "output_dim = 720\n",
    "layer_dim = 2\n",
    "dropout = 0.3\n",
    "n_epochs = 25\n",
    "learning_rate = 1e-5\n",
    "weight_decay = 1e-5\n",
    "\n",
    "model_params = {'input_dim': input_dim,\n",
    "                'hidden_dim' : hidden_dim,\n",
    "                'layer_dim' : layer_dim,\n",
    "                'output_dim' : output_dim,\n",
    "                'dropout_prob' : dropout}\n",
    "\n",
    "model = get_model('lstm', model_params)\n",
    "\n",
    "loss_fn = nn.MSELoss(reduction=\"mean\")\n",
    "optimizer = optim.Adam(model.parameters(), lr=learning_rate, weight_decay=weight_decay)\n",
    "\n",
    "opt = Optimization(model=model, loss_fn=loss_fn, optimizer=optimizer)\n",
    "opt.train(train_loader, val_loader, batch_size=batch_size, n_epochs=n_epochs, n_features=input_dim)\n",
    "opt.plot_losses()\n",
    "\n",
    "predictions, values = opt.evaluate(test_loader, batch_size=batch_size, n_features=input_dim)"
   ]
  },
  {
   "cell_type": "code",
   "execution_count": 30,
   "id": "07cae366-6a10-471c-b0ef-50b8a625e805",
   "metadata": {},
   "outputs": [],
   "source": [
    "df_result = format_predictions(predictions, values)"
   ]
  },
  {
   "cell_type": "code",
   "execution_count": 31,
   "id": "debdeae4-62c8-468c-b0bd-75fee3722e8d",
   "metadata": {},
   "outputs": [
    {
     "name": "stdout",
     "output_type": "stream",
     "text": [
      "{'mae': 0.05138668780734423, 'rmse': 0.05867561364740019, 'r2': -2.2948297861713574}\n"
     ]
    }
   ],
   "source": [
    "from sklearn.metrics import mean_absolute_error, mean_squared_error, r2_score\n",
    "\n",
    "def calculate_metrics(df):\n",
    "    return {'mae' : mean_absolute_error(df.value, df.prediction),\n",
    "            'rmse' : mean_squared_error(df.value, df.prediction) ** 0.5,\n",
    "            'r2' : r2_score(df.value, df.prediction)}\n",
    "\n",
    "result_metrics = calculate_metrics(df_result)\n",
    "print(result_metrics)"
   ]
  },
  {
   "cell_type": "code",
   "execution_count": 32,
   "id": "91ef7ec3-8865-44cd-9c12-0bf33ae6d14e",
   "metadata": {},
   "outputs": [
    {
     "name": "stdout",
     "output_type": "stream",
     "text": [
      "[1/25] Training loss: 1.080697\t Validation loss: 0.367319\n",
      "[2/25] Training loss: 0.190057\t Validation loss: 0.022749\n",
      "[3/25] Training loss: 0.020491\t Validation loss: 0.003811\n",
      "[4/25] Training loss: 0.008598\t Validation loss: 0.002880\n",
      "[5/25] Training loss: 0.007427\t Validation loss: 0.002561\n",
      "[6/25] Training loss: 0.006743\t Validation loss: 0.002231\n",
      "[7/25] Training loss: 0.006294\t Validation loss: 0.002035\n",
      "[8/25] Training loss: 0.005894\t Validation loss: 0.001919\n",
      "[9/25] Training loss: 0.005338\t Validation loss: 0.001837\n",
      "[10/25] Training loss: 0.004884\t Validation loss: 0.001786\n",
      "[11/25] Training loss: 0.004513\t Validation loss: 0.001753\n",
      "[12/25] Training loss: 0.004119\t Validation loss: 0.001739\n",
      "[13/25] Training loss: 0.003856\t Validation loss: 0.001742\n",
      "[14/25] Training loss: 0.003593\t Validation loss: 0.001756\n",
      "[15/25] Training loss: 0.003326\t Validation loss: 0.001771\n",
      "[16/25] Training loss: 0.003219\t Validation loss: 0.001791\n",
      "[17/25] Training loss: 0.003010\t Validation loss: 0.001805\n",
      "[18/25] Training loss: 0.002909\t Validation loss: 0.001819\n",
      "[19/25] Training loss: 0.002799\t Validation loss: 0.001832\n",
      "[20/25] Training loss: 0.002764\t Validation loss: 0.001845\n",
      "[21/25] Training loss: 0.002687\t Validation loss: 0.001859\n",
      "[22/25] Training loss: 0.002700\t Validation loss: 0.001873\n",
      "[23/25] Training loss: 0.002632\t Validation loss: 0.001887\n",
      "[24/25] Training loss: 0.002557\t Validation loss: 0.001897\n",
      "[25/25] Training loss: 0.002586\t Validation loss: 0.001905\n"
     ]
    },
    {
     "data": {
      "image/png": "[encoded data removed]",
      "text/plain": [
       "<Figure size 432x288 with 1 Axes>"
      ]
     },
     "metadata": {
      "needs_background": "light"
     },
     "output_type": "display_data"
    }
   ],
   "source": [
    "import torch.optim as optim\n",
    "\n",
    "input_dim = 6\n",
    "hidden_dim = 256\n",
    "output_dim = 720\n",
    "layer_dim = 2\n",
    "dropout = 0.3\n",
    "n_epochs = 25\n",
    "learning_rate = 1e-5\n",
    "weight_decay = 1e-5\n",
    "\n",
    "model_params = {'input_dim': input_dim,\n",
    "                'hidden_dim' : hidden_dim,\n",
    "                'layer_dim' : layer_dim,\n",
    "                'output_dim' : output_dim,\n",
    "                'dropout_prob' : dropout}\n",
    "\n",
    "model = get_model('gru', model_params)\n",
    "\n",
    "loss_fn = nn.MSELoss(reduction=\"mean\")\n",
    "optimizer = optim.Adam(model.parameters(), lr=learning_rate, weight_decay=weight_decay)\n",
    "\n",
    "opt = Optimization(model=model, loss_fn=loss_fn, optimizer=optimizer)\n",
    "opt.train(train_loader, val_loader, batch_size=batch_size, n_epochs=n_epochs, n_features=input_dim)\n",
    "opt.plot_losses()\n",
    "\n",
    "predictions, values = opt.evaluate(test_loader, batch_size=batch_size, n_features=input_dim)"
   ]
  },
  {
   "cell_type": "code",
   "execution_count": 33,
   "id": "8d102e89-b378-4215-b227-12ec11aba310",
   "metadata": {},
   "outputs": [],
   "source": [
    "df_result = format_predictions(predictions, values)"
   ]
  },
  {
   "cell_type": "code",
   "execution_count": 34,
   "id": "5c54c35a-3bb9-4e67-be05-6e7ad7b4cd13",
   "metadata": {},
   "outputs": [
    {
     "name": "stdout",
     "output_type": "stream",
     "text": [
      "{'mae': 0.044271884901612386, 'rmse': 0.055343353697983974, 'r2': -1.931221577096124}\n"
     ]
    }
   ],
   "source": [
    "from sklearn.metrics import mean_absolute_error, mean_squared_error, r2_score\n",
    "\n",
    "def calculate_metrics(df):\n",
    "    return {'mae' : mean_absolute_error(df.value, df.prediction),\n",
    "            'rmse' : mean_squared_error(df.value, df.prediction) ** 0.5,\n",
    "            'r2' : r2_score(df.value, df.prediction)}\n",
    "\n",
    "result_metrics = calculate_metrics(df_result)\n",
    "print(result_metrics)"
   ]
  },
  {
   "cell_type": "markdown",
   "id": "d825c72c-ed94-4b0f-ab0b-29619a84966e",
   "metadata": {},
   "source": [
    "$\n",
    "\\textit{QL}(\\textit{y},\\hat{y},\\textit{q}) = \\textit{q}(\\textit{y}-\\hat{y})_{+} + (1-\\textit{q})(\\hat{y}-\\textit{y})_{+}\n",
    "$\n",
    "\n",
    "$\n",
    "\\textit{L}(\\omega,\\textbf{W}) = \\sum_{\\textit{y}_t \\in \\omega}\\textit{q}(\\textit{y}-\\hat{y})_{+} + (1-\\textit{q})(\\hat{y}-\\textit{y})_{+}\\label{eq}\n",
    "$"
   ]
  }
 ],
 "metadata": {
  "kernelspec": {
   "display_name": "Python 3 (ipykernel)",
   "language": "python",
   "name": "python3"
  },
  "language_info": {
   "codemirror_mode": {
    "name": "ipython",
    "version": 3
   },
   "file_extension": ".py",
   "mimetype": "text/x-python",
   "name": "python",
   "nbconvert_exporter": "python",
   "pygments_lexer": "ipython3",
   "version": "3.9.7"
  }
 },
 "nbformat": 4,
 "nbformat_minor": 5
}
