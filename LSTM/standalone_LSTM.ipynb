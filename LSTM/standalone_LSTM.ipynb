{
 "cells": [
  {
   "cell_type": "code",
   "execution_count": 17,
   "id": "ea080bc9-407e-4c9c-8aaa-b5e11daa5c84",
   "metadata": {},
   "outputs": [],
   "source": [
    "import pandas as pd\n",
    "import numpy as np\n",
    "import torch\n",
    "from torch import nn\n",
    "from torch.utils.data import DataLoader"
   ]
  },
  {
   "cell_type": "code",
   "execution_count": 18,
   "id": "126af440-1420-4ee3-85ef-941db5fc6d2c",
   "metadata": {},
   "outputs": [
    {
     "data": {
      "text/html": [
       "<div>\n",
       "<style scoped>\n",
       "    .dataframe tbody tr th:only-of-type {\n",
       "        vertical-align: middle;\n",
       "    }\n",
       "\n",
       "    .dataframe tbody tr th {\n",
       "        vertical-align: top;\n",
       "    }\n",
       "\n",
       "    .dataframe thead th {\n",
       "        text-align: right;\n",
       "    }\n",
       "</style>\n",
       "<table border=\"1\" class=\"dataframe\">\n",
       "  <thead>\n",
       "    <tr style=\"text-align: right;\">\n",
       "      <th></th>\n",
       "      <th>&lt;DATE&gt;</th>\n",
       "      <th>&lt;TIME&gt;</th>\n",
       "      <th>&lt;OPEN&gt;</th>\n",
       "      <th>&lt;HIGH&gt;</th>\n",
       "      <th>&lt;LOW&gt;</th>\n",
       "      <th>&lt;CLOSE&gt;</th>\n",
       "      <th>&lt;TICKVOL&gt;</th>\n",
       "      <th>&lt;VOL&gt;</th>\n",
       "      <th>&lt;SPREAD&gt;</th>\n",
       "    </tr>\n",
       "  </thead>\n",
       "  <tbody>\n",
       "    <tr>\n",
       "      <th>0</th>\n",
       "      <td>2012.04.09</td>\n",
       "      <td>00:00:00</td>\n",
       "      <td>1.30961</td>\n",
       "      <td>1.30965</td>\n",
       "      <td>1.30662</td>\n",
       "      <td>1.30687</td>\n",
       "      <td>2151</td>\n",
       "      <td>0</td>\n",
       "      <td>13</td>\n",
       "    </tr>\n",
       "    <tr>\n",
       "      <th>1</th>\n",
       "      <td>2012.04.09</td>\n",
       "      <td>01:00:00</td>\n",
       "      <td>1.30688</td>\n",
       "      <td>1.30861</td>\n",
       "      <td>1.30668</td>\n",
       "      <td>1.30847</td>\n",
       "      <td>1490</td>\n",
       "      <td>0</td>\n",
       "      <td>12</td>\n",
       "    </tr>\n",
       "    <tr>\n",
       "      <th>2</th>\n",
       "      <td>2012.04.09</td>\n",
       "      <td>02:00:00</td>\n",
       "      <td>1.30848</td>\n",
       "      <td>1.30876</td>\n",
       "      <td>1.30441</td>\n",
       "      <td>1.30443</td>\n",
       "      <td>2226</td>\n",
       "      <td>0</td>\n",
       "      <td>12</td>\n",
       "    </tr>\n",
       "    <tr>\n",
       "      <th>3</th>\n",
       "      <td>2012.04.09</td>\n",
       "      <td>03:00:00</td>\n",
       "      <td>1.30444</td>\n",
       "      <td>1.30524</td>\n",
       "      <td>1.30330</td>\n",
       "      <td>1.30508</td>\n",
       "      <td>2322</td>\n",
       "      <td>0</td>\n",
       "      <td>13</td>\n",
       "    </tr>\n",
       "    <tr>\n",
       "      <th>4</th>\n",
       "      <td>2012.04.09</td>\n",
       "      <td>04:00:00</td>\n",
       "      <td>1.30509</td>\n",
       "      <td>1.30618</td>\n",
       "      <td>1.30504</td>\n",
       "      <td>1.30581</td>\n",
       "      <td>1379</td>\n",
       "      <td>0</td>\n",
       "      <td>12</td>\n",
       "    </tr>\n",
       "  </tbody>\n",
       "</table>\n",
       "</div>"
      ],
      "text/plain": [
       "       <DATE>    <TIME>   <OPEN>   <HIGH>    <LOW>  <CLOSE>  <TICKVOL>  <VOL>  \\\n",
       "0  2012.04.09  00:00:00  1.30961  1.30965  1.30662  1.30687       2151      0   \n",
       "1  2012.04.09  01:00:00  1.30688  1.30861  1.30668  1.30847       1490      0   \n",
       "2  2012.04.09  02:00:00  1.30848  1.30876  1.30441  1.30443       2226      0   \n",
       "3  2012.04.09  03:00:00  1.30444  1.30524  1.30330  1.30508       2322      0   \n",
       "4  2012.04.09  04:00:00  1.30509  1.30618  1.30504  1.30581       1379      0   \n",
       "\n",
       "   <SPREAD>  \n",
       "0        13  \n",
       "1        12  \n",
       "2        12  \n",
       "3        13  \n",
       "4        12  "
      ]
     },
     "execution_count": 18,
     "metadata": {},
     "output_type": "execute_result"
    }
   ],
   "source": [
    "data = pd.read_csv('dataset_eurousd.csv', delimiter = '\\t')\n",
    "data.head()"
   ]
  },
  {
   "cell_type": "code",
   "execution_count": 19,
   "id": "48dbb093-d36e-4473-b84a-7c44168f6cdf",
   "metadata": {},
   "outputs": [
    {
     "data": {
      "text/plain": [
       "Index(['DATE', 'TIME', 'OPEN', 'HIGH', 'LOW', 'CLOSE', 'TICKVOL', 'VOL',\n",
       "       'SPREAD'],\n",
       "      dtype='object')"
      ]
     },
     "execution_count": 19,
     "metadata": {},
     "output_type": "execute_result"
    }
   ],
   "source": [
    "data.columns =['DATE', 'TIME', 'OPEN', 'HIGH', 'LOW', 'CLOSE', 'TICKVOL',\n",
    "       'VOL', 'SPREAD']\n",
    "data.columns"
   ]
  },
  {
   "cell_type": "code",
   "execution_count": 20,
   "id": "aef16c7d-c366-4722-a990-8595468aa355",
   "metadata": {},
   "outputs": [
    {
     "data": {
      "text/plain": [
       "62002"
      ]
     },
     "execution_count": 20,
     "metadata": {},
     "output_type": "execute_result"
    }
   ],
   "source": [
    "len(data)"
   ]
  },
  {
   "cell_type": "code",
   "execution_count": 21,
   "id": "cfffe82f-58c7-4da6-8bd3-5a8a0faf0300",
   "metadata": {},
   "outputs": [],
   "source": [
    "n_steps = 24\n",
    "pred_len = 12\n",
    "\n",
    "def split_sequence(sequence, n_steps, pred_len):\n",
    "    x, y = list(), list()\n",
    "    for i in range(len(sequence)):\n",
    "        end_ix = i + n_steps\n",
    "        if end_ix > len(sequence)-1:\n",
    "            break\n",
    "        # print(sequence)\n",
    "\n",
    "        seq_y = sequence.iloc[end_ix:end_ix + pred_len, 5]\n",
    "        seq_y = seq_y.values\n",
    "        # print(seq_y.shape)\n",
    "        seq_x = sequence[i:end_ix].drop([\"DATE\",\"TIME\",\"SPREAD\"], axis = 1)\n",
    "        seq_x = seq_x[i:end_ix]\n",
    "        # print(pca_x.shape)\n",
    "        if len(seq_x) == n_steps and len(seq_y) == pred_len:\n",
    "            x.append(seq_x)\n",
    "            y.append(seq_y)\n",
    "    return np.array(x), np.array(y)"
   ]
  },
  {
   "cell_type": "code",
   "execution_count": 22,
   "id": "4bf859ff-975e-4204-b55e-f1073ca7ea19",
   "metadata": {},
   "outputs": [],
   "source": [
    "timeseries_dataset = split_sequence(data[:100], n_steps, pred_len)\n",
    "# data2 = timeseries_dataset[0]\n",
    "# data2[0].shape"
   ]
  },
  {
   "cell_type": "code",
   "execution_count": 25,
   "id": "fd81fc54-1564-4ced-b5cb-073825474011",
   "metadata": {},
   "outputs": [],
   "source": [
    "data_loader = DataLoader(timeseries_dataset, batch_size = 1)\n"
   ]
  },
  {
   "cell_type": "code",
   "execution_count": 8,
   "id": "21e74654-b4a5-48bf-9420-e647fc1fc8d7",
   "metadata": {},
   "outputs": [
    {
     "name": "stdout",
     "output_type": "stream",
     "text": [
      "[[1.31126 1.31084 1.31165 1.31373 1.31394 1.31311 1.31323 1.31208 1.30897\n",
      "  1.30848 1.30878 1.30749]]\n"
     ]
    }
   ],
   "source": [
    "print(timeseries_dataset[1])"
   ]
  },
  {
   "cell_type": "code",
   "execution_count": 33,
   "id": "b46ced80-39f1-4024-b4df-633430d45f52",
   "metadata": {},
   "outputs": [
    {
     "name": "stdout",
     "output_type": "stream",
     "text": [
      "LSTM(6, 12, batch_first=True)\n"
     ]
    },
    {
     "ename": "NameError",
     "evalue": "name 'double' is not defined",
     "output_type": "error",
     "traceback": [
      "\u001b[0;31m---------------------------------------------------------------------------\u001b[0m",
      "\u001b[0;31mNameError\u001b[0m                                 Traceback (most recent call last)",
      "\u001b[0;32m/tmp/ipykernel_221/1157097134.py\u001b[0m in \u001b[0;36m<module>\u001b[0;34m\u001b[0m\n\u001b[1;32m      3\u001b[0m \u001b[0;32mfor\u001b[0m \u001b[0mdata\u001b[0m \u001b[0;32min\u001b[0m \u001b[0mdata_loader\u001b[0m\u001b[0;34m:\u001b[0m\u001b[0;34m\u001b[0m\u001b[0;34m\u001b[0m\u001b[0m\n\u001b[1;32m      4\u001b[0m     \u001b[0mdata2\u001b[0m \u001b[0;34m=\u001b[0m \u001b[0mdata\u001b[0m\u001b[0;34m[\u001b[0m\u001b[0;36m0\u001b[0m\u001b[0;34m]\u001b[0m\u001b[0;34m\u001b[0m\u001b[0;34m\u001b[0m\u001b[0m\n\u001b[0;32m----> 5\u001b[0;31m     \u001b[0moutput\u001b[0m \u001b[0;34m=\u001b[0m \u001b[0mlstm\u001b[0m\u001b[0;34m(\u001b[0m\u001b[0mdouble\u001b[0m\u001b[0;34m(\u001b[0m\u001b[0mdata2\u001b[0m\u001b[0;34m)\u001b[0m\u001b[0;34m)\u001b[0m\u001b[0;34m\u001b[0m\u001b[0;34m\u001b[0m\u001b[0m\n\u001b[0m\u001b[1;32m      6\u001b[0m     \u001b[0mprint\u001b[0m\u001b[0;34m(\u001b[0m\u001b[0moutput\u001b[0m\u001b[0;34m)\u001b[0m\u001b[0;34m\u001b[0m\u001b[0;34m\u001b[0m\u001b[0m\n\u001b[1;32m      7\u001b[0m     \u001b[0mprint\u001b[0m\u001b[0;34m(\u001b[0m\u001b[0moutput\u001b[0m\u001b[0;34m.\u001b[0m\u001b[0mshape\u001b[0m\u001b[0;34m)\u001b[0m\u001b[0;34m\u001b[0m\u001b[0;34m\u001b[0m\u001b[0m\n",
      "\u001b[0;31mNameError\u001b[0m: name 'double' is not defined"
     ]
    }
   ],
   "source": [
    "lstm = nn.LSTM(6, 12, 1, batch_first = True)\n",
    "print(lstm)\n",
    "for data in data_loader:\n",
    "    data2 = data[0]\n",
    "    output = lstm(double(data2))\n",
    "    print(output)\n",
    "    print(output.shape)"
   ]
  },
  {
   "cell_type": "code",
   "execution_count": null,
   "id": "f1babf5c-4332-4414-8c9d-435e6c786b26",
   "metadata": {},
   "outputs": [],
   "source": [
    "class LSTM(nn.Module):\n",
    "    def __init__(self, input_dim, hidden_dim, num_layers, output_dim):\n",
    "        super(LSTM, self).__init__()\n",
    "        self.hidden_dim = hidden_dim\n",
    "        self.num_layers = num_layers\n",
    "        \n",
    "        self.lstm = nn.LSTM(input_dim, hidden_dim, num_layers, batch_first=True)\n",
    "        self.fc = nn.Linear(hidden_dim, output_dim)\n",
    "    def forward(self, x):\n",
    "        h0 = torch.zeros(self.num_layers, x.size(0), self.hidden_dim).requires_grad_()\n",
    "        c0 = torch.zeros(self.num_layers, x.size(0), self.hidden_dim).requires_grad_()\n",
    "        out, (hn, cn) = self.lstm(x, (h0.detach(), c0.detach()))\n",
    "        out = self.fc(out[:, -1, :]) \n",
    "        return out"
   ]
  },
  {
   "cell_type": "code",
   "execution_count": null,
   "id": "fa7887cf-2e53-4890-8f07-581910d67a27",
   "metadata": {},
   "outputs": [],
   "source": [
    "model = LSTM(input_dim=input_dim, hidden_dim=hidden_dim, output_dim=output_dim, num_layers=num_layers)\n",
    "criterion = torch.nn.MSELoss(reduction='mean')\n",
    "optimiser = torch.optim.Adam(model.parameters(), lr=0.01)"
   ]
  },
  {
   "cell_type": "code",
   "execution_count": null,
   "id": "ee1d59d3-1789-4b14-90a3-c8305261a497",
   "metadata": {},
   "outputs": [],
   "source": []
  }
 ],
 "metadata": {
  "kernelspec": {
   "display_name": "Python 3 (ipykernel)",
   "language": "python",
   "name": "python3"
  },
  "language_info": {
   "codemirror_mode": {
    "name": "ipython",
    "version": 3
   },
   "file_extension": ".py",
   "mimetype": "text/x-python",
   "name": "python",
   "nbconvert_exporter": "python",
   "pygments_lexer": "ipython3",
   "version": "3.9.7"
  }
 },
 "nbformat": 4,
 "nbformat_minor": 5
}
